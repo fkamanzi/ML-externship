{
 "cells": [
  {
   "cell_type": "code",
   "execution_count": 31,
   "metadata": {},
   "outputs": [],
   "source": [
    "# import libraries and dataset\n",
    "\n",
    "import pandas as pd\n",
    "import numpy as np\n",
    "\n",
    "df = pd.read_csv(r'C:\\Users\\hp\\Documents\\Data Science internship\\StageB\\energydata_complete.csv')\n"
   ]
  },
  {
   "cell_type": "code",
   "execution_count": 32,
   "metadata": {},
   "outputs": [],
   "source": [
    "#drop date and lights features from the dataset\n",
    "\n",
    "energy_data=df.drop(columns=['date', 'lights'], inplace=True)\n"
   ]
  },
  {
   "cell_type": "code",
   "execution_count": 33,
   "metadata": {},
   "outputs": [],
   "source": [
    "# The target variable is “Appliances”\n",
    "\n",
    "x = df[['T1', 'RH_1', 'T2', 'RH_2', 'T3',\n",
    "       'RH_3', 'T4', 'RH_4', 'T5', 'RH_5', 'T6', 'RH_6', 'T7', 'RH_7', 'T8',\n",
    "       'RH_8', 'T9', 'RH_9', 'T_out', 'Press_mm_hg', 'RH_out', 'Windspeed',\n",
    "       'Visibility', 'Tdewpoint', 'rv1', 'rv2']]\n",
    "y = df['Appliances']"
   ]
  },
  {
   "cell_type": "code",
   "execution_count": 34,
   "metadata": {},
   "outputs": [],
   "source": [
    "# normalize the dataset using the MinMaxScaler \n",
    "\n",
    "from sklearn.preprocessing import MinMaxScaler\n",
    "\n",
    "scaler = MinMaxScaler()\n",
    "\n",
    "normalised_df = pd.DataFrame(scaler.fit_transform(df), columns=df.columns)\n",
    "features_df = normalised_df.drop(columns=['T1', 'RH_1', 'T2', 'RH_2', 'T3',\n",
    "       'RH_3', 'T4', 'RH_4', 'T5', 'RH_5', 'T6', 'RH_6', 'T7', 'RH_7', 'T8',\n",
    "       'RH_8', 'T9', 'RH_9', 'T_out', 'Press_mm_hg', 'RH_out', 'Windspeed',\n",
    "       'Visibility', 'Tdewpoint', 'rv1', 'rv2'])\n",
    "Appliances_target = normalised_df['Appliances']"
   ]
  },
  {
   "cell_type": "code",
   "execution_count": 35,
   "metadata": {},
   "outputs": [],
   "source": [
    "# Use a 70-30 train-test set split with a  random state of 42 (for reproducibility)\n",
    "\n",
    "from sklearn.model_selection import train_test_split \n",
    "x_train, x_test, y_train, y_test = train_test_split(x, heating_target, \n",
    "                                                    test_size= 0.3 , random_state= 42 ) \n",
    "from sklearn.linear_model import LinearRegression\n",
    "linear_model=LinearRegression()\n"
   ]
  },
  {
   "cell_type": "code",
   "execution_count": 36,
   "metadata": {},
   "outputs": [],
   "source": [
    "#fit the model to the training dataset \n",
    "linear_model.fit(x_train, y_train) \n",
    "#obtain predictions \n",
    "predicted_values = linear_model.predict(x_test) "
   ]
  },
  {
   "cell_type": "markdown",
   "metadata": {},
   "source": [
    "Question 10\n",
    "\n",
    "What is the Mean Absolute Error (in two decimal places)?\n"
   ]
  },
  {
   "cell_type": "code",
   "execution_count": 37,
   "metadata": {},
   "outputs": [
    {
     "data": {
      "text/plain": [
       "0.05"
      ]
     },
     "execution_count": 37,
     "metadata": {},
     "output_type": "execute_result"
    }
   ],
   "source": [
    "#MAE \n",
    "from sklearn.metrics import mean_absolute_error \n",
    "mae = mean_absolute_error(y_test, predicted_values) \n",
    "round(mae, 2 ) #prints MAE "
   ]
  },
  {
   "cell_type": "markdown",
   "metadata": {},
   "source": [
    "Question 6\n",
    "\n",
    "What is the Residual Sum of Squares (in two decimal places)?\n"
   ]
  },
  {
   "cell_type": "code",
   "execution_count": 38,
   "metadata": {},
   "outputs": [
    {
     "data": {
      "text/plain": [
       "45.35"
      ]
     },
     "execution_count": 38,
     "metadata": {},
     "output_type": "execute_result"
    }
   ],
   "source": [
    "#Residual   Sum   of   Squares   (RSS) \n",
    "import numpy as np \n",
    "rss = np.sum(np.square(y_test - predicted_values)) \n",
    "round(rss, 2 ) #prints RSS"
   ]
  },
  {
   "cell_type": "markdown",
   "metadata": {},
   "source": [
    "Question 17\n",
    "\n",
    "What is the Root Mean Squared Error (in three decimal places)?\n"
   ]
  },
  {
   "cell_type": "code",
   "execution_count": 39,
   "metadata": {},
   "outputs": [
    {
     "data": {
      "text/plain": [
       "0.088"
      ]
     },
     "execution_count": 39,
     "metadata": {},
     "output_type": "execute_result"
    }
   ],
   "source": [
    "#Root   Mean   Square   Error   (RMSE) \n",
    "from sklearn.metrics import mean_squared_error \n",
    "rmse = np.sqrt(mean_squared_error(y_test, predicted_values)) \n",
    "round(rmse, 3 ) #prints RMSE"
   ]
  },
  {
   "cell_type": "markdown",
   "metadata": {},
   "source": [
    "Question 8\n",
    "\n",
    "What is the Coefficient of Determination (in two decimal places)? \n"
   ]
  },
  {
   "cell_type": "code",
   "execution_count": 40,
   "metadata": {},
   "outputs": [
    {
     "data": {
      "text/plain": [
       "0.15"
      ]
     },
     "execution_count": 40,
     "metadata": {},
     "output_type": "execute_result"
    }
   ],
   "source": [
    "#R-Squared from sklearn.metrics \n",
    "from sklearn.metrics import r2_score \n",
    "r2_score = r2_score(y_test, predicted_values) \n",
    "round(r2_score, 2 ) #prints R-squred"
   ]
  },
  {
   "cell_type": "code",
   "execution_count": 41,
   "metadata": {},
   "outputs": [
    {
     "data": {
      "text/plain": [
       "Ridge(alpha=0.5, copy_X=True, fit_intercept=True, max_iter=None,\n",
       "      normalize=False, random_state=None, solver='auto', tol=0.001)"
      ]
     },
     "execution_count": 41,
     "metadata": {},
     "output_type": "execute_result"
    }
   ],
   "source": [
    "#Ridge   Regression \n",
    "from sklearn.linear_model import Ridge \n",
    "ridge_reg = Ridge(alpha= 0.5 ) \n",
    "ridge_reg.fit(x_train, y_train) "
   ]
  },
  {
   "cell_type": "code",
   "execution_count": 42,
   "metadata": {},
   "outputs": [
    {
     "data": {
      "text/plain": [
       "Lasso(alpha=0.001, copy_X=True, fit_intercept=True, max_iter=1000,\n",
       "      normalize=False, positive=False, precompute=False, random_state=None,\n",
       "      selection='cyclic', tol=0.0001, warm_start=False)"
      ]
     },
     "execution_count": 42,
     "metadata": {},
     "output_type": "execute_result"
    }
   ],
   "source": [
    "#Feature   Selection   and   Lasso   Regression \n",
    "from sklearn.linear_model import Lasso \n",
    "lasso_reg = Lasso(alpha= 0.001 ) \n",
    "lasso_reg.fit(x_train, y_train)"
   ]
  },
  {
   "cell_type": "markdown",
   "metadata": {},
   "source": [
    "Question 4\n",
    "\n",
    "Obtain the feature weights from your linear model above. Which features have the lowest and highest weights respectively?\n"
   ]
  },
  {
   "cell_type": "code",
   "execution_count": 43,
   "metadata": {},
   "outputs": [],
   "source": [
    "#comparing the effects of regularisation def \n",
    "def get_weights_df(linear_model, feat, col_name) : \n",
    "    #this function returns the weight of every feature \n",
    "    weights = pd.Series(linear_model.coef_, feat.columns).sort_values() \n",
    "    weights_df = pd.DataFrame(weights).reset_index() \n",
    "    weights_df.columns = [ 'Features' , col_name] \n",
    "    weights_df[col_name].round( 3 ) \n",
    "    return weights_df \n",
    "\n",
    "linear_model_weights = get_weights_df(linear_model, x_train, 'Linear_Model_Weight' ) \n",
    "ridge_weights_df = get_weights_df(ridge_reg, x_train, 'Ridge_Weight' ) \n",
    "lasso_weights_df = get_weights_df(lasso_reg, x_train, 'Lasso_weight' ) \n",
    "\n",
    "final_weights = pd.merge(linear_model_weights, ridge_weights_df, on= 'Features' ) \n",
    "final_weights = pd.merge(final_weights, lasso_weights_df, on= 'Features' )"
   ]
  },
  {
   "cell_type": "code",
   "execution_count": 44,
   "metadata": {},
   "outputs": [
    {
     "data": {
      "text/html": [
       "<div>\n",
       "<style scoped>\n",
       "    .dataframe tbody tr th:only-of-type {\n",
       "        vertical-align: middle;\n",
       "    }\n",
       "\n",
       "    .dataframe tbody tr th {\n",
       "        vertical-align: top;\n",
       "    }\n",
       "\n",
       "    .dataframe thead th {\n",
       "        text-align: right;\n",
       "    }\n",
       "</style>\n",
       "<table border=\"1\" class=\"dataframe\">\n",
       "  <thead>\n",
       "    <tr style=\"text-align: right;\">\n",
       "      <th></th>\n",
       "      <th>Features</th>\n",
       "      <th>Linear_Model_Weight</th>\n",
       "      <th>Ridge_Weight</th>\n",
       "      <th>Lasso_weight</th>\n",
       "    </tr>\n",
       "  </thead>\n",
       "  <tbody>\n",
       "    <tr>\n",
       "      <th>0</th>\n",
       "      <td>T9</td>\n",
       "      <td>-0.019765</td>\n",
       "      <td>-0.019760</td>\n",
       "      <td>-1.512603e-02</td>\n",
       "    </tr>\n",
       "    <tr>\n",
       "      <th>1</th>\n",
       "      <td>T2</td>\n",
       "      <td>-0.017168</td>\n",
       "      <td>-0.017163</td>\n",
       "      <td>-9.668148e-03</td>\n",
       "    </tr>\n",
       "    <tr>\n",
       "      <th>2</th>\n",
       "      <td>RH_2</td>\n",
       "      <td>-0.012842</td>\n",
       "      <td>-0.012840</td>\n",
       "      <td>-9.300608e-03</td>\n",
       "    </tr>\n",
       "    <tr>\n",
       "      <th>3</th>\n",
       "      <td>T_out</td>\n",
       "      <td>-0.010349</td>\n",
       "      <td>-0.010345</td>\n",
       "      <td>-3.325131e-03</td>\n",
       "    </tr>\n",
       "    <tr>\n",
       "      <th>4</th>\n",
       "      <td>RH_8</td>\n",
       "      <td>-0.005401</td>\n",
       "      <td>-0.005401</td>\n",
       "      <td>-5.077541e-03</td>\n",
       "    </tr>\n",
       "    <tr>\n",
       "      <th>5</th>\n",
       "      <td>RH_9</td>\n",
       "      <td>-0.001647</td>\n",
       "      <td>-0.001648</td>\n",
       "      <td>-1.431118e-03</td>\n",
       "    </tr>\n",
       "    <tr>\n",
       "      <th>6</th>\n",
       "      <td>RH_7</td>\n",
       "      <td>-0.001582</td>\n",
       "      <td>-0.001582</td>\n",
       "      <td>-1.644124e-03</td>\n",
       "    </tr>\n",
       "    <tr>\n",
       "      <th>7</th>\n",
       "      <td>T5</td>\n",
       "      <td>-0.001496</td>\n",
       "      <td>-0.001498</td>\n",
       "      <td>-1.476185e-03</td>\n",
       "    </tr>\n",
       "    <tr>\n",
       "      <th>8</th>\n",
       "      <td>RH_out</td>\n",
       "      <td>-0.001022</td>\n",
       "      <td>-0.001021</td>\n",
       "      <td>-1.934555e-05</td>\n",
       "    </tr>\n",
       "    <tr>\n",
       "      <th>9</th>\n",
       "      <td>T1</td>\n",
       "      <td>-0.000346</td>\n",
       "      <td>-0.000348</td>\n",
       "      <td>-0.000000e+00</td>\n",
       "    </tr>\n",
       "    <tr>\n",
       "      <th>10</th>\n",
       "      <td>rv2</td>\n",
       "      <td>0.000015</td>\n",
       "      <td>0.000015</td>\n",
       "      <td>1.954170e-20</td>\n",
       "    </tr>\n",
       "    <tr>\n",
       "      <th>11</th>\n",
       "      <td>rv1</td>\n",
       "      <td>0.000015</td>\n",
       "      <td>0.000015</td>\n",
       "      <td>2.132002e-05</td>\n",
       "    </tr>\n",
       "    <tr>\n",
       "      <th>12</th>\n",
       "      <td>Press_mm_hg</td>\n",
       "      <td>0.000159</td>\n",
       "      <td>0.000159</td>\n",
       "      <td>6.963612e-05</td>\n",
       "    </tr>\n",
       "    <tr>\n",
       "      <th>13</th>\n",
       "      <td>Visibility</td>\n",
       "      <td>0.000189</td>\n",
       "      <td>0.000189</td>\n",
       "      <td>1.652974e-04</td>\n",
       "    </tr>\n",
       "    <tr>\n",
       "      <th>14</th>\n",
       "      <td>RH_5</td>\n",
       "      <td>0.000241</td>\n",
       "      <td>0.000241</td>\n",
       "      <td>2.326420e-04</td>\n",
       "    </tr>\n",
       "    <tr>\n",
       "      <th>15</th>\n",
       "      <td>RH_6</td>\n",
       "      <td>0.000385</td>\n",
       "      <td>0.000385</td>\n",
       "      <td>2.800849e-04</td>\n",
       "    </tr>\n",
       "    <tr>\n",
       "      <th>16</th>\n",
       "      <td>T7</td>\n",
       "      <td>0.000973</td>\n",
       "      <td>0.000971</td>\n",
       "      <td>-0.000000e+00</td>\n",
       "    </tr>\n",
       "    <tr>\n",
       "      <th>17</th>\n",
       "      <td>RH_4</td>\n",
       "      <td>0.001126</td>\n",
       "      <td>0.001126</td>\n",
       "      <td>0.000000e+00</td>\n",
       "    </tr>\n",
       "    <tr>\n",
       "      <th>18</th>\n",
       "      <td>Windspeed</td>\n",
       "      <td>0.002085</td>\n",
       "      <td>0.002085</td>\n",
       "      <td>2.028805e-03</td>\n",
       "    </tr>\n",
       "    <tr>\n",
       "      <th>19</th>\n",
       "      <td>T4</td>\n",
       "      <td>0.002611</td>\n",
       "      <td>0.002610</td>\n",
       "      <td>-0.000000e+00</td>\n",
       "    </tr>\n",
       "    <tr>\n",
       "      <th>20</th>\n",
       "      <td>RH_3</td>\n",
       "      <td>0.004489</td>\n",
       "      <td>0.004489</td>\n",
       "      <td>3.336119e-03</td>\n",
       "    </tr>\n",
       "    <tr>\n",
       "      <th>21</th>\n",
       "      <td>Tdewpoint</td>\n",
       "      <td>0.005328</td>\n",
       "      <td>0.005325</td>\n",
       "      <td>-0.000000e+00</td>\n",
       "    </tr>\n",
       "    <tr>\n",
       "      <th>22</th>\n",
       "      <td>T6</td>\n",
       "      <td>0.006882</td>\n",
       "      <td>0.006881</td>\n",
       "      <td>4.352944e-03</td>\n",
       "    </tr>\n",
       "    <tr>\n",
       "      <th>23</th>\n",
       "      <td>T8</td>\n",
       "      <td>0.009337</td>\n",
       "      <td>0.009336</td>\n",
       "      <td>5.924399e-03</td>\n",
       "    </tr>\n",
       "    <tr>\n",
       "      <th>24</th>\n",
       "      <td>RH_1</td>\n",
       "      <td>0.015234</td>\n",
       "      <td>0.015232</td>\n",
       "      <td>1.375405e-02</td>\n",
       "    </tr>\n",
       "    <tr>\n",
       "      <th>25</th>\n",
       "      <td>T3</td>\n",
       "      <td>0.024146</td>\n",
       "      <td>0.024144</td>\n",
       "      <td>1.953587e-02</td>\n",
       "    </tr>\n",
       "  </tbody>\n",
       "</table>\n",
       "</div>"
      ],
      "text/plain": [
       "       Features  Linear_Model_Weight  Ridge_Weight  Lasso_weight\n",
       "0            T9            -0.019765     -0.019760 -1.512603e-02\n",
       "1            T2            -0.017168     -0.017163 -9.668148e-03\n",
       "2          RH_2            -0.012842     -0.012840 -9.300608e-03\n",
       "3         T_out            -0.010349     -0.010345 -3.325131e-03\n",
       "4          RH_8            -0.005401     -0.005401 -5.077541e-03\n",
       "5          RH_9            -0.001647     -0.001648 -1.431118e-03\n",
       "6          RH_7            -0.001582     -0.001582 -1.644124e-03\n",
       "7            T5            -0.001496     -0.001498 -1.476185e-03\n",
       "8        RH_out            -0.001022     -0.001021 -1.934555e-05\n",
       "9            T1            -0.000346     -0.000348 -0.000000e+00\n",
       "10          rv2             0.000015      0.000015  1.954170e-20\n",
       "11          rv1             0.000015      0.000015  2.132002e-05\n",
       "12  Press_mm_hg             0.000159      0.000159  6.963612e-05\n",
       "13   Visibility             0.000189      0.000189  1.652974e-04\n",
       "14         RH_5             0.000241      0.000241  2.326420e-04\n",
       "15         RH_6             0.000385      0.000385  2.800849e-04\n",
       "16           T7             0.000973      0.000971 -0.000000e+00\n",
       "17         RH_4             0.001126      0.001126  0.000000e+00\n",
       "18    Windspeed             0.002085      0.002085  2.028805e-03\n",
       "19           T4             0.002611      0.002610 -0.000000e+00\n",
       "20         RH_3             0.004489      0.004489  3.336119e-03\n",
       "21    Tdewpoint             0.005328      0.005325 -0.000000e+00\n",
       "22           T6             0.006882      0.006881  4.352944e-03\n",
       "23           T8             0.009337      0.009336  5.924399e-03\n",
       "24         RH_1             0.015234      0.015232  1.375405e-02\n",
       "25           T3             0.024146      0.024144  1.953587e-02"
      ]
     },
     "execution_count": 44,
     "metadata": {},
     "output_type": "execute_result"
    }
   ],
   "source": [
    "final_weights"
   ]
  },
  {
   "cell_type": "markdown",
   "metadata": {},
   "source": [
    "T_out and T3 have the lowest and highest weights respectively"
   ]
  },
  {
   "cell_type": "markdown",
   "metadata": {},
   "source": [
    "Question 18\n",
    "\n",
    "From the dataset, fit a linear model on the relationship between the temperature in the living room in Celsius (x = T2) and the temperature outside the building (y = T6). What is the R^2 value in two D.P?\n"
   ]
  },
  {
   "cell_type": "code",
   "execution_count": 82,
   "metadata": {},
   "outputs": [
    {
     "data": {
      "text/plain": [
       "0.64"
      ]
     },
     "execution_count": 82,
     "metadata": {},
     "output_type": "execute_result"
    }
   ],
   "source": [
    "x = df['T2']\n",
    "y = df['T6']\n",
    "\n",
    "array = np.array([x])\n",
    "x_feature = array.reshape(-1, 1)\n",
    "\n",
    "from sklearn.model_selection import train_test_split\n",
    "x_train, x_test, y_train, y_test = train_test_split(x_feature, y, \n",
    "                                                    test_size= 0.3 , random_state= 42 ) \n",
    "\n",
    "#R-Squared\n",
    "from sklearn.metrics import r2_score \n",
    "\n",
    "#fit the model to the training dataset \n",
    "linear_model.fit(x_train, y_train) \n",
    "#obtain predictions \n",
    "predicted_values = linear_model.predict(x_test) \n",
    "r2_score = r2_score(y_test, predicted_values) \n",
    "round(r2_score, 2 ) #prints R-squared"
   ]
  },
  {
   "cell_type": "markdown",
   "metadata": {},
   "source": [
    "Question 11\n",
    "\n",
    "What is the new RMSE with the Lasso Regression (in 3 decimal places)?  \n",
    "with an alpha value of 0.4"
   ]
  },
  {
   "cell_type": "code",
   "execution_count": 114,
   "metadata": {},
   "outputs": [
    {
     "data": {
      "text/plain": [
       "Lasso(alpha=0.4, copy_X=True, fit_intercept=True, max_iter=1000,\n",
       "      normalize=False, positive=False, precompute=False, random_state=None,\n",
       "      selection='cyclic', tol=0.0001, warm_start=False)"
      ]
     },
     "execution_count": 114,
     "metadata": {},
     "output_type": "execute_result"
    }
   ],
   "source": [
    "lasso_reg = Lasso(alpha=0.4 ) \n",
    "lasso_reg.fit(x_train, y_train)"
   ]
  },
  {
   "cell_type": "code",
   "execution_count": 115,
   "metadata": {},
   "outputs": [],
   "source": [
    "#obtain predictions \n",
    "predicted_values = lasso_reg.predict(x_test) "
   ]
  },
  {
   "cell_type": "code",
   "execution_count": 116,
   "metadata": {},
   "outputs": [
    {
     "data": {
      "text/plain": [
       "3.635"
      ]
     },
     "execution_count": 116,
     "metadata": {},
     "output_type": "execute_result"
    }
   ],
   "source": [
    "#Root   Mean   Square   Error   (RMSE) \n",
    "from sklearn.metrics import mean_squared_error \n",
    "rmse = np.sqrt(mean_squared_error(y_test, predicted_values)) \n",
    "round(rmse, 3 ) #prints RMSE"
   ]
  },
  {
   "cell_type": "code",
   "execution_count": 117,
   "metadata": {},
   "outputs": [
    {
     "data": {
      "text/plain": [
       "Lasso(alpha=0.04, copy_X=True, fit_intercept=True, max_iter=1000,\n",
       "      normalize=False, positive=False, precompute=False, random_state=None,\n",
       "      selection='cyclic', tol=0.0001, warm_start=False)"
      ]
     },
     "execution_count": 117,
     "metadata": {},
     "output_type": "execute_result"
    }
   ],
   "source": [
    "#Feature   Selection   and   Lasso   Regression \n",
    "from sklearn.linear_model import Lasso \n",
    "lasso_reg = Lasso(alpha= 0.04 ) \n",
    "lasso_reg.fit(x_train, y_train)"
   ]
  },
  {
   "cell_type": "code",
   "execution_count": null,
   "metadata": {},
   "outputs": [],
   "source": []
  },
  {
   "cell_type": "code",
   "execution_count": null,
   "metadata": {},
   "outputs": [],
   "source": []
  }
 ],
 "metadata": {
  "kernelspec": {
   "display_name": "Python 3",
   "language": "python",
   "name": "python3"
  },
  "language_info": {
   "codemirror_mode": {
    "name": "ipython",
    "version": 3
   },
   "file_extension": ".py",
   "mimetype": "text/x-python",
   "name": "python",
   "nbconvert_exporter": "python",
   "pygments_lexer": "ipython3",
   "version": "3.7.6"
  }
 },
 "nbformat": 4,
 "nbformat_minor": 4
}
